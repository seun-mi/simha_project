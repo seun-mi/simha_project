{
 "cells": [
  {
   "cell_type": "code",
   "execution_count": 158,
   "id": "4c0a9c16",
   "metadata": {},
   "outputs": [],
   "source": [
    "import pandas as pd\n",
    "import numpy as np\n",
    "import ast\n",
    "import datetime\n",
    "import seaborn as sns\n",
    "import matplotlib.pyplot as plt\n",
    "from sklearn.cluster import KMeans\n",
    "from sklearn.preprocessing import StandardScaler"
   ]
  },
  {
   "cell_type": "code",
   "execution_count": 159,
   "id": "1f9157ff",
   "metadata": {},
   "outputs": [],
   "source": [
    "plt.rcParams['font.family'] = 'Malgun Gothic' \n",
    "plt.rcParams['axes.unicode_minus'] = False"
   ]
  },
  {
   "cell_type": "markdown",
   "id": "ce58cd68",
   "metadata": {},
   "source": [
    "# 데이터 확인"
   ]
  },
  {
   "cell_type": "code",
   "execution_count": 160,
   "id": "4146d5bb",
   "metadata": {},
   "outputs": [
    {
     "data": {
      "text/html": [
       "<div>\n",
       "<style scoped>\n",
       "    .dataframe tbody tr th:only-of-type {\n",
       "        vertical-align: middle;\n",
       "    }\n",
       "\n",
       "    .dataframe tbody tr th {\n",
       "        vertical-align: top;\n",
       "    }\n",
       "\n",
       "    .dataframe thead th {\n",
       "        text-align: right;\n",
       "    }\n",
       "</style>\n",
       "<table border=\"1\" class=\"dataframe\">\n",
       "  <thead>\n",
       "    <tr style=\"text-align: right;\">\n",
       "      <th></th>\n",
       "      <th>reward</th>\n",
       "      <th>channels</th>\n",
       "      <th>difficulty</th>\n",
       "      <th>duration</th>\n",
       "      <th>offer_type</th>\n",
       "      <th>id</th>\n",
       "    </tr>\n",
       "  </thead>\n",
       "  <tbody>\n",
       "    <tr>\n",
       "      <th>0</th>\n",
       "      <td>10</td>\n",
       "      <td>['email', 'mobile', 'social']</td>\n",
       "      <td>10</td>\n",
       "      <td>7</td>\n",
       "      <td>bogo</td>\n",
       "      <td>ae264e3637204a6fb9bb56bc8210ddfd</td>\n",
       "    </tr>\n",
       "    <tr>\n",
       "      <th>1</th>\n",
       "      <td>10</td>\n",
       "      <td>['web', 'email', 'mobile', 'social']</td>\n",
       "      <td>10</td>\n",
       "      <td>5</td>\n",
       "      <td>bogo</td>\n",
       "      <td>4d5c57ea9a6940dd891ad53e9dbe8da0</td>\n",
       "    </tr>\n",
       "    <tr>\n",
       "      <th>2</th>\n",
       "      <td>0</td>\n",
       "      <td>['web', 'email', 'mobile']</td>\n",
       "      <td>0</td>\n",
       "      <td>4</td>\n",
       "      <td>informational</td>\n",
       "      <td>3f207df678b143eea3cee63160fa8bed</td>\n",
       "    </tr>\n",
       "    <tr>\n",
       "      <th>3</th>\n",
       "      <td>5</td>\n",
       "      <td>['web', 'email', 'mobile']</td>\n",
       "      <td>5</td>\n",
       "      <td>7</td>\n",
       "      <td>bogo</td>\n",
       "      <td>9b98b8c7a33c4b65b9aebfe6a799e6d9</td>\n",
       "    </tr>\n",
       "    <tr>\n",
       "      <th>4</th>\n",
       "      <td>5</td>\n",
       "      <td>['web', 'email']</td>\n",
       "      <td>20</td>\n",
       "      <td>10</td>\n",
       "      <td>discount</td>\n",
       "      <td>0b1e1539f2cc45b7b9fa7c272da2e1d7</td>\n",
       "    </tr>\n",
       "  </tbody>\n",
       "</table>\n",
       "</div>"
      ],
      "text/plain": [
       "   reward                              channels  difficulty  duration  \\\n",
       "0      10         ['email', 'mobile', 'social']          10         7   \n",
       "1      10  ['web', 'email', 'mobile', 'social']          10         5   \n",
       "2       0            ['web', 'email', 'mobile']           0         4   \n",
       "3       5            ['web', 'email', 'mobile']           5         7   \n",
       "4       5                      ['web', 'email']          20        10   \n",
       "\n",
       "      offer_type                                id  \n",
       "0           bogo  ae264e3637204a6fb9bb56bc8210ddfd  \n",
       "1           bogo  4d5c57ea9a6940dd891ad53e9dbe8da0  \n",
       "2  informational  3f207df678b143eea3cee63160fa8bed  \n",
       "3           bogo  9b98b8c7a33c4b65b9aebfe6a799e6d9  \n",
       "4       discount  0b1e1539f2cc45b7b9fa7c272da2e1d7  "
      ]
     },
     "execution_count": 160,
     "metadata": {},
     "output_type": "execute_result"
    }
   ],
   "source": [
    "port = pd.read_csv(\"C:/Users/minji/전민정ㅎ/실전 프로젝트/archive (8)/portfolio.csv\",index_col=0)\n",
    "port.head()"
   ]
  },
  {
   "cell_type": "code",
   "execution_count": 161,
   "id": "24693749",
   "metadata": {},
   "outputs": [
    {
     "data": {
      "text/html": [
       "<div>\n",
       "<style scoped>\n",
       "    .dataframe tbody tr th:only-of-type {\n",
       "        vertical-align: middle;\n",
       "    }\n",
       "\n",
       "    .dataframe tbody tr th {\n",
       "        vertical-align: top;\n",
       "    }\n",
       "\n",
       "    .dataframe thead th {\n",
       "        text-align: right;\n",
       "    }\n",
       "</style>\n",
       "<table border=\"1\" class=\"dataframe\">\n",
       "  <thead>\n",
       "    <tr style=\"text-align: right;\">\n",
       "      <th></th>\n",
       "      <th>gender</th>\n",
       "      <th>age</th>\n",
       "      <th>id</th>\n",
       "      <th>became_member_on</th>\n",
       "      <th>income</th>\n",
       "    </tr>\n",
       "  </thead>\n",
       "  <tbody>\n",
       "    <tr>\n",
       "      <th>0</th>\n",
       "      <td>NaN</td>\n",
       "      <td>118</td>\n",
       "      <td>68be06ca386d4c31939f3a4f0e3dd783</td>\n",
       "      <td>20170212</td>\n",
       "      <td>NaN</td>\n",
       "    </tr>\n",
       "    <tr>\n",
       "      <th>1</th>\n",
       "      <td>F</td>\n",
       "      <td>55</td>\n",
       "      <td>0610b486422d4921ae7d2bf64640c50b</td>\n",
       "      <td>20170715</td>\n",
       "      <td>112000.0</td>\n",
       "    </tr>\n",
       "    <tr>\n",
       "      <th>2</th>\n",
       "      <td>NaN</td>\n",
       "      <td>118</td>\n",
       "      <td>38fe809add3b4fcf9315a9694bb96ff5</td>\n",
       "      <td>20180712</td>\n",
       "      <td>NaN</td>\n",
       "    </tr>\n",
       "    <tr>\n",
       "      <th>3</th>\n",
       "      <td>F</td>\n",
       "      <td>75</td>\n",
       "      <td>78afa995795e4d85b5d9ceeca43f5fef</td>\n",
       "      <td>20170509</td>\n",
       "      <td>100000.0</td>\n",
       "    </tr>\n",
       "    <tr>\n",
       "      <th>4</th>\n",
       "      <td>NaN</td>\n",
       "      <td>118</td>\n",
       "      <td>a03223e636434f42ac4c3df47e8bac43</td>\n",
       "      <td>20170804</td>\n",
       "      <td>NaN</td>\n",
       "    </tr>\n",
       "  </tbody>\n",
       "</table>\n",
       "</div>"
      ],
      "text/plain": [
       "  gender  age                                id  became_member_on    income\n",
       "0    NaN  118  68be06ca386d4c31939f3a4f0e3dd783          20170212       NaN\n",
       "1      F   55  0610b486422d4921ae7d2bf64640c50b          20170715  112000.0\n",
       "2    NaN  118  38fe809add3b4fcf9315a9694bb96ff5          20180712       NaN\n",
       "3      F   75  78afa995795e4d85b5d9ceeca43f5fef          20170509  100000.0\n",
       "4    NaN  118  a03223e636434f42ac4c3df47e8bac43          20170804       NaN"
      ]
     },
     "execution_count": 161,
     "metadata": {},
     "output_type": "execute_result"
    }
   ],
   "source": [
    "profile = pd.read_csv(\"C:/Users/minji/전민정ㅎ/실전 프로젝트/archive (8)/profile.csv\",index_col=0)\n",
    "profile.head()"
   ]
  },
  {
   "cell_type": "code",
   "execution_count": 162,
   "id": "d86a0b4a",
   "metadata": {},
   "outputs": [
    {
     "data": {
      "text/html": [
       "<div>\n",
       "<style scoped>\n",
       "    .dataframe tbody tr th:only-of-type {\n",
       "        vertical-align: middle;\n",
       "    }\n",
       "\n",
       "    .dataframe tbody tr th {\n",
       "        vertical-align: top;\n",
       "    }\n",
       "\n",
       "    .dataframe thead th {\n",
       "        text-align: right;\n",
       "    }\n",
       "</style>\n",
       "<table border=\"1\" class=\"dataframe\">\n",
       "  <thead>\n",
       "    <tr style=\"text-align: right;\">\n",
       "      <th></th>\n",
       "      <th>person</th>\n",
       "      <th>event</th>\n",
       "      <th>value</th>\n",
       "      <th>time</th>\n",
       "    </tr>\n",
       "  </thead>\n",
       "  <tbody>\n",
       "    <tr>\n",
       "      <th>0</th>\n",
       "      <td>78afa995795e4d85b5d9ceeca43f5fef</td>\n",
       "      <td>offer received</td>\n",
       "      <td>{'offer id': '9b98b8c7a33c4b65b9aebfe6a799e6d9'}</td>\n",
       "      <td>0</td>\n",
       "    </tr>\n",
       "    <tr>\n",
       "      <th>1</th>\n",
       "      <td>a03223e636434f42ac4c3df47e8bac43</td>\n",
       "      <td>offer received</td>\n",
       "      <td>{'offer id': '0b1e1539f2cc45b7b9fa7c272da2e1d7'}</td>\n",
       "      <td>0</td>\n",
       "    </tr>\n",
       "    <tr>\n",
       "      <th>2</th>\n",
       "      <td>e2127556f4f64592b11af22de27a7932</td>\n",
       "      <td>offer received</td>\n",
       "      <td>{'offer id': '2906b810c7d4411798c6938adc9daaa5'}</td>\n",
       "      <td>0</td>\n",
       "    </tr>\n",
       "    <tr>\n",
       "      <th>3</th>\n",
       "      <td>8ec6ce2a7e7949b1bf142def7d0e0586</td>\n",
       "      <td>offer received</td>\n",
       "      <td>{'offer id': 'fafdcd668e3743c1bb461111dcafc2a4'}</td>\n",
       "      <td>0</td>\n",
       "    </tr>\n",
       "    <tr>\n",
       "      <th>4</th>\n",
       "      <td>68617ca6246f4fbc85e91a2a49552598</td>\n",
       "      <td>offer received</td>\n",
       "      <td>{'offer id': '4d5c57ea9a6940dd891ad53e9dbe8da0'}</td>\n",
       "      <td>0</td>\n",
       "    </tr>\n",
       "  </tbody>\n",
       "</table>\n",
       "</div>"
      ],
      "text/plain": [
       "                             person           event  \\\n",
       "0  78afa995795e4d85b5d9ceeca43f5fef  offer received   \n",
       "1  a03223e636434f42ac4c3df47e8bac43  offer received   \n",
       "2  e2127556f4f64592b11af22de27a7932  offer received   \n",
       "3  8ec6ce2a7e7949b1bf142def7d0e0586  offer received   \n",
       "4  68617ca6246f4fbc85e91a2a49552598  offer received   \n",
       "\n",
       "                                              value  time  \n",
       "0  {'offer id': '9b98b8c7a33c4b65b9aebfe6a799e6d9'}     0  \n",
       "1  {'offer id': '0b1e1539f2cc45b7b9fa7c272da2e1d7'}     0  \n",
       "2  {'offer id': '2906b810c7d4411798c6938adc9daaa5'}     0  \n",
       "3  {'offer id': 'fafdcd668e3743c1bb461111dcafc2a4'}     0  \n",
       "4  {'offer id': '4d5c57ea9a6940dd891ad53e9dbe8da0'}     0  "
      ]
     },
     "execution_count": 162,
     "metadata": {},
     "output_type": "execute_result"
    }
   ],
   "source": [
    "trans = pd.read_csv(\"C:/Users/minji/전민정ㅎ/실전 프로젝트/archive (8)/transcript.csv\",index_col=0)\n",
    "trans.head()"
   ]
  },
  {
   "cell_type": "code",
   "execution_count": 163,
   "id": "d1c41fd9",
   "metadata": {},
   "outputs": [
    {
     "name": "stdout",
     "output_type": "stream",
     "text": [
      "<class 'pandas.core.frame.DataFrame'>\n",
      "Index: 10 entries, 0 to 9\n",
      "Data columns (total 6 columns):\n",
      " #   Column      Non-Null Count  Dtype \n",
      "---  ------      --------------  ----- \n",
      " 0   reward      10 non-null     int64 \n",
      " 1   channels    10 non-null     object\n",
      " 2   difficulty  10 non-null     int64 \n",
      " 3   duration    10 non-null     int64 \n",
      " 4   offer_type  10 non-null     object\n",
      " 5   id          10 non-null     object\n",
      "dtypes: int64(3), object(3)\n",
      "memory usage: 560.0+ bytes\n"
     ]
    }
   ],
   "source": [
    "port.info()"
   ]
  },
  {
   "cell_type": "code",
   "execution_count": 164,
   "id": "a3508645",
   "metadata": {},
   "outputs": [
    {
     "name": "stdout",
     "output_type": "stream",
     "text": [
      "<class 'pandas.core.frame.DataFrame'>\n",
      "Index: 17000 entries, 0 to 16999\n",
      "Data columns (total 5 columns):\n",
      " #   Column            Non-Null Count  Dtype  \n",
      "---  ------            --------------  -----  \n",
      " 0   gender            14825 non-null  object \n",
      " 1   age               17000 non-null  int64  \n",
      " 2   id                17000 non-null  object \n",
      " 3   became_member_on  17000 non-null  int64  \n",
      " 4   income            14825 non-null  float64\n",
      "dtypes: float64(1), int64(2), object(2)\n",
      "memory usage: 796.9+ KB\n"
     ]
    }
   ],
   "source": [
    "profile.info()"
   ]
  },
  {
   "cell_type": "code",
   "execution_count": 165,
   "id": "75ad0998",
   "metadata": {},
   "outputs": [
    {
     "name": "stdout",
     "output_type": "stream",
     "text": [
      "<class 'pandas.core.frame.DataFrame'>\n",
      "Index: 306534 entries, 0 to 306533\n",
      "Data columns (total 4 columns):\n",
      " #   Column  Non-Null Count   Dtype \n",
      "---  ------  --------------   ----- \n",
      " 0   person  306534 non-null  object\n",
      " 1   event   306534 non-null  object\n",
      " 2   value   306534 non-null  object\n",
      " 3   time    306534 non-null  int64 \n",
      "dtypes: int64(1), object(3)\n",
      "memory usage: 11.7+ MB\n"
     ]
    }
   ],
   "source": [
    "trans.info()"
   ]
  },
  {
   "cell_type": "code",
   "execution_count": 166,
   "id": "b671a592",
   "metadata": {},
   "outputs": [
    {
     "data": {
      "text/plain": [
       "gender              2175\n",
       "age                    0\n",
       "id                     0\n",
       "became_member_on       0\n",
       "income              2175\n",
       "dtype: int64"
      ]
     },
     "execution_count": 166,
     "metadata": {},
     "output_type": "execute_result"
    }
   ],
   "source": [
    "profile.isnull().sum()"
   ]
  },
  {
   "cell_type": "markdown",
   "id": "77f64c7f",
   "metadata": {},
   "source": [
    "# 전처리"
   ]
  },
  {
   "cell_type": "code",
   "execution_count": 167,
   "id": "169c0922",
   "metadata": {},
   "outputs": [],
   "source": [
    "trans['value'] = trans['value'].apply(lambda x: ast.literal_eval(x) if isinstance(x, str) else x)\n",
    "trans['amount'] = trans['value'].apply(lambda x: x.get('amount') if isinstance(x, dict) else None)\n",
    "trans['amount'] = trans['amount'].astype(float)\n",
    "trans['offer_id'] = trans['value'].apply(lambda x: x.get('offer id') or x.get('offer_id') if isinstance(x, dict) else None)"
   ]
  },
  {
   "cell_type": "code",
   "execution_count": 168,
   "id": "238e16af",
   "metadata": {},
   "outputs": [
    {
     "name": "stdout",
     "output_type": "stream",
     "text": [
      "30000.0\n",
      "64000.0\n",
      "120000.0\n"
     ]
    }
   ],
   "source": [
    "print(profile['income'].min())\n",
    "print(profile['income'].median())\n",
    "print(profile['income'].max())"
   ]
  },
  {
   "cell_type": "code",
   "execution_count": 169,
   "id": "27d26775",
   "metadata": {},
   "outputs": [
    {
     "name": "stderr",
     "output_type": "stream",
     "text": [
      "c:\\ProgramData\\anaconda3\\Lib\\site-packages\\seaborn\\_oldcore.py:1119: FutureWarning: use_inf_as_na option is deprecated and will be removed in a future version. Convert inf values to NaN before operating instead.\n",
      "  with pd.option_context('mode.use_inf_as_na', True):\n"
     ]
    },
    {
     "data": {
      "image/png": "[encoded data removed]",
      "text/plain": [
       "<Figure size 800x500 with 1 Axes>"
      ]
     },
     "metadata": {},
     "output_type": "display_data"
    }
   ],
   "source": [
    "# sns.histplot(data=profile, x='income', kde=True)\n",
    "plt.figure(figsize=(8, 5))\n",
    "sns.histplot(profile['income'], bins=30, kde=True, color='steelblue')\n",
    "plt.title(\"소득 분포\")\n",
    "plt.xlabel(\"소득\")\n",
    "plt.ylabel(\"빈도\")\n",
    "plt.grid(True)\n",
    "plt.tight_layout()\n",
    "plt.show()"
   ]
  },
  {
   "cell_type": "code",
   "execution_count": 170,
   "id": "09357024",
   "metadata": {},
   "outputs": [
    {
     "data": {
      "text/plain": [
       "0         64000.0\n",
       "1        112000.0\n",
       "2         64000.0\n",
       "3        100000.0\n",
       "4         64000.0\n",
       "           ...   \n",
       "16995     54000.0\n",
       "16996     72000.0\n",
       "16997     73000.0\n",
       "16998     50000.0\n",
       "16999     82000.0\n",
       "Name: income, Length: 17000, dtype: float64"
      ]
     },
     "execution_count": 170,
     "metadata": {},
     "output_type": "execute_result"
    }
   ],
   "source": [
    "income_median = profile['income'].median()\n",
    "profile['income'].fillna(income_median, inplace=True)\n",
    "profile['income']"
   ]
  },
  {
   "cell_type": "code",
   "execution_count": 171,
   "id": "2d391604",
   "metadata": {},
   "outputs": [],
   "source": [
    "profile['became_member_on'] = pd.to_datetime(profile['became_member_on'], format='%Y%m%d')\n",
    "profile['became_member_on'] = profile['became_member_on'].dt.date"
   ]
  },
  {
   "cell_type": "code",
   "execution_count": 172,
   "id": "3f36d785",
   "metadata": {},
   "outputs": [],
   "source": [
    "trans.drop(columns=['value'], axis=1, inplace=True)\n",
    "port.drop(columns=['channels'], axis=1, inplace=True)"
   ]
  },
  {
   "cell_type": "markdown",
   "id": "16ba1751",
   "metadata": {},
   "source": [
    "# 거래 기록이 있는 고객 대상"
   ]
  },
  {
   "cell_type": "code",
   "execution_count": 173,
   "id": "9fac745d",
   "metadata": {},
   "outputs": [],
   "source": [
    "trans = trans[trans['event'] == 'transaction']"
   ]
  },
  {
   "cell_type": "code",
   "execution_count": 174,
   "id": "a4f85e70",
   "metadata": {},
   "outputs": [
    {
     "data": {
      "text/html": [
       "<div>\n",
       "<style scoped>\n",
       "    .dataframe tbody tr th:only-of-type {\n",
       "        vertical-align: middle;\n",
       "    }\n",
       "\n",
       "    .dataframe tbody tr th {\n",
       "        vertical-align: top;\n",
       "    }\n",
       "\n",
       "    .dataframe thead th {\n",
       "        text-align: right;\n",
       "    }\n",
       "</style>\n",
       "<table border=\"1\" class=\"dataframe\">\n",
       "  <thead>\n",
       "    <tr style=\"text-align: right;\">\n",
       "      <th></th>\n",
       "      <th>person</th>\n",
       "      <th>event</th>\n",
       "      <th>time</th>\n",
       "      <th>amount</th>\n",
       "      <th>offer_id</th>\n",
       "      <th>gender</th>\n",
       "      <th>age</th>\n",
       "      <th>id</th>\n",
       "      <th>became_member_on</th>\n",
       "      <th>income</th>\n",
       "    </tr>\n",
       "  </thead>\n",
       "  <tbody>\n",
       "    <tr>\n",
       "      <th>0</th>\n",
       "      <td>02c083884c7d45b39cc68e1314fec56c</td>\n",
       "      <td>transaction</td>\n",
       "      <td>0</td>\n",
       "      <td>0.83</td>\n",
       "      <td>None</td>\n",
       "      <td>F</td>\n",
       "      <td>20</td>\n",
       "      <td>02c083884c7d45b39cc68e1314fec56c</td>\n",
       "      <td>2016-07-11</td>\n",
       "      <td>30000.0</td>\n",
       "    </tr>\n",
       "    <tr>\n",
       "      <th>1</th>\n",
       "      <td>9fa9ae8f57894cc9a3b8a9bbe0fc1b2f</td>\n",
       "      <td>transaction</td>\n",
       "      <td>0</td>\n",
       "      <td>34.56</td>\n",
       "      <td>None</td>\n",
       "      <td>M</td>\n",
       "      <td>42</td>\n",
       "      <td>9fa9ae8f57894cc9a3b8a9bbe0fc1b2f</td>\n",
       "      <td>2016-01-17</td>\n",
       "      <td>96000.0</td>\n",
       "    </tr>\n",
       "    <tr>\n",
       "      <th>2</th>\n",
       "      <td>54890f68699049c2a04d415abc25e717</td>\n",
       "      <td>transaction</td>\n",
       "      <td>0</td>\n",
       "      <td>13.23</td>\n",
       "      <td>None</td>\n",
       "      <td>M</td>\n",
       "      <td>36</td>\n",
       "      <td>54890f68699049c2a04d415abc25e717</td>\n",
       "      <td>2017-12-28</td>\n",
       "      <td>56000.0</td>\n",
       "    </tr>\n",
       "    <tr>\n",
       "      <th>3</th>\n",
       "      <td>b2f1cd155b864803ad8334cdf13c4bd2</td>\n",
       "      <td>transaction</td>\n",
       "      <td>0</td>\n",
       "      <td>19.51</td>\n",
       "      <td>None</td>\n",
       "      <td>F</td>\n",
       "      <td>55</td>\n",
       "      <td>b2f1cd155b864803ad8334cdf13c4bd2</td>\n",
       "      <td>2017-10-16</td>\n",
       "      <td>94000.0</td>\n",
       "    </tr>\n",
       "    <tr>\n",
       "      <th>4</th>\n",
       "      <td>fe97aa22dd3e48c8b143116a8403dd52</td>\n",
       "      <td>transaction</td>\n",
       "      <td>0</td>\n",
       "      <td>18.97</td>\n",
       "      <td>None</td>\n",
       "      <td>F</td>\n",
       "      <td>39</td>\n",
       "      <td>fe97aa22dd3e48c8b143116a8403dd52</td>\n",
       "      <td>2017-12-17</td>\n",
       "      <td>67000.0</td>\n",
       "    </tr>\n",
       "    <tr>\n",
       "      <th>...</th>\n",
       "      <td>...</td>\n",
       "      <td>...</td>\n",
       "      <td>...</td>\n",
       "      <td>...</td>\n",
       "      <td>...</td>\n",
       "      <td>...</td>\n",
       "      <td>...</td>\n",
       "      <td>...</td>\n",
       "      <td>...</td>\n",
       "      <td>...</td>\n",
       "    </tr>\n",
       "    <tr>\n",
       "      <th>138948</th>\n",
       "      <td>b3a1272bc9904337b331bf348c3e8c17</td>\n",
       "      <td>transaction</td>\n",
       "      <td>714</td>\n",
       "      <td>1.59</td>\n",
       "      <td>None</td>\n",
       "      <td>M</td>\n",
       "      <td>66</td>\n",
       "      <td>b3a1272bc9904337b331bf348c3e8c17</td>\n",
       "      <td>2018-01-01</td>\n",
       "      <td>47000.0</td>\n",
       "    </tr>\n",
       "    <tr>\n",
       "      <th>138949</th>\n",
       "      <td>68213b08d99a4ae1b0dcb72aebd9aa35</td>\n",
       "      <td>transaction</td>\n",
       "      <td>714</td>\n",
       "      <td>9.53</td>\n",
       "      <td>None</td>\n",
       "      <td>M</td>\n",
       "      <td>52</td>\n",
       "      <td>68213b08d99a4ae1b0dcb72aebd9aa35</td>\n",
       "      <td>2018-04-08</td>\n",
       "      <td>62000.0</td>\n",
       "    </tr>\n",
       "    <tr>\n",
       "      <th>138950</th>\n",
       "      <td>a00058cf10334a308c68e7631c529907</td>\n",
       "      <td>transaction</td>\n",
       "      <td>714</td>\n",
       "      <td>3.61</td>\n",
       "      <td>None</td>\n",
       "      <td>F</td>\n",
       "      <td>63</td>\n",
       "      <td>a00058cf10334a308c68e7631c529907</td>\n",
       "      <td>2013-09-22</td>\n",
       "      <td>52000.0</td>\n",
       "    </tr>\n",
       "    <tr>\n",
       "      <th>138951</th>\n",
       "      <td>76ddbd6576844afe811f1a3c0fbb5bec</td>\n",
       "      <td>transaction</td>\n",
       "      <td>714</td>\n",
       "      <td>3.53</td>\n",
       "      <td>None</td>\n",
       "      <td>M</td>\n",
       "      <td>57</td>\n",
       "      <td>76ddbd6576844afe811f1a3c0fbb5bec</td>\n",
       "      <td>2016-07-09</td>\n",
       "      <td>40000.0</td>\n",
       "    </tr>\n",
       "    <tr>\n",
       "      <th>138952</th>\n",
       "      <td>c02b10e8752c4d8e9b73f918558531f7</td>\n",
       "      <td>transaction</td>\n",
       "      <td>714</td>\n",
       "      <td>4.05</td>\n",
       "      <td>None</td>\n",
       "      <td>NaN</td>\n",
       "      <td>118</td>\n",
       "      <td>c02b10e8752c4d8e9b73f918558531f7</td>\n",
       "      <td>2015-12-11</td>\n",
       "      <td>64000.0</td>\n",
       "    </tr>\n",
       "  </tbody>\n",
       "</table>\n",
       "<p>138953 rows × 10 columns</p>\n",
       "</div>"
      ],
      "text/plain": [
       "                                  person        event  time  amount offer_id  \\\n",
       "0       02c083884c7d45b39cc68e1314fec56c  transaction     0    0.83     None   \n",
       "1       9fa9ae8f57894cc9a3b8a9bbe0fc1b2f  transaction     0   34.56     None   \n",
       "2       54890f68699049c2a04d415abc25e717  transaction     0   13.23     None   \n",
       "3       b2f1cd155b864803ad8334cdf13c4bd2  transaction     0   19.51     None   \n",
       "4       fe97aa22dd3e48c8b143116a8403dd52  transaction     0   18.97     None   \n",
       "...                                  ...          ...   ...     ...      ...   \n",
       "138948  b3a1272bc9904337b331bf348c3e8c17  transaction   714    1.59     None   \n",
       "138949  68213b08d99a4ae1b0dcb72aebd9aa35  transaction   714    9.53     None   \n",
       "138950  a00058cf10334a308c68e7631c529907  transaction   714    3.61     None   \n",
       "138951  76ddbd6576844afe811f1a3c0fbb5bec  transaction   714    3.53     None   \n",
       "138952  c02b10e8752c4d8e9b73f918558531f7  transaction   714    4.05     None   \n",
       "\n",
       "       gender  age                                id became_member_on   income  \n",
       "0           F   20  02c083884c7d45b39cc68e1314fec56c       2016-07-11  30000.0  \n",
       "1           M   42  9fa9ae8f57894cc9a3b8a9bbe0fc1b2f       2016-01-17  96000.0  \n",
       "2           M   36  54890f68699049c2a04d415abc25e717       2017-12-28  56000.0  \n",
       "3           F   55  b2f1cd155b864803ad8334cdf13c4bd2       2017-10-16  94000.0  \n",
       "4           F   39  fe97aa22dd3e48c8b143116a8403dd52       2017-12-17  67000.0  \n",
       "...       ...  ...                               ...              ...      ...  \n",
       "138948      M   66  b3a1272bc9904337b331bf348c3e8c17       2018-01-01  47000.0  \n",
       "138949      M   52  68213b08d99a4ae1b0dcb72aebd9aa35       2018-04-08  62000.0  \n",
       "138950      F   63  a00058cf10334a308c68e7631c529907       2013-09-22  52000.0  \n",
       "138951      M   57  76ddbd6576844afe811f1a3c0fbb5bec       2016-07-09  40000.0  \n",
       "138952    NaN  118  c02b10e8752c4d8e9b73f918558531f7       2015-12-11  64000.0  \n",
       "\n",
       "[138953 rows x 10 columns]"
      ]
     },
     "execution_count": 174,
     "metadata": {},
     "output_type": "execute_result"
    }
   ],
   "source": [
    "trans_df = pd.merge(trans, profile, how = 'left', left_on = 'person', right_on = 'id')\n",
    "trans_df"
   ]
  },
  {
   "cell_type": "code",
   "execution_count": 175,
   "id": "4b067168",
   "metadata": {},
   "outputs": [],
   "source": [
    "trans_df.drop(columns=['offer_id'], axis=1, inplace=True)"
   ]
  },
  {
   "cell_type": "code",
   "execution_count": 176,
   "id": "4ba4d656",
   "metadata": {},
   "outputs": [],
   "source": [
    "trans_df['became_member_on'] = pd.to_datetime(trans_df['became_member_on'], format='%Y%m%d')"
   ]
  },
  {
   "cell_type": "code",
   "execution_count": 177,
   "id": "05479b90",
   "metadata": {},
   "outputs": [
    {
     "name": "stdout",
     "output_type": "stream",
     "text": [
      "<class 'pandas.core.frame.DataFrame'>\n",
      "RangeIndex: 138953 entries, 0 to 138952\n",
      "Data columns (total 9 columns):\n",
      " #   Column            Non-Null Count   Dtype         \n",
      "---  ------            --------------   -----         \n",
      " 0   person            138953 non-null  object        \n",
      " 1   event             138953 non-null  object        \n",
      " 2   time              138953 non-null  int64         \n",
      " 3   amount            138953 non-null  float64       \n",
      " 4   gender            123957 non-null  object        \n",
      " 5   age               138953 non-null  int64         \n",
      " 6   id                138953 non-null  object        \n",
      " 7   became_member_on  138953 non-null  datetime64[ns]\n",
      " 8   income            138953 non-null  float64       \n",
      "dtypes: datetime64[ns](1), float64(2), int64(2), object(4)\n",
      "memory usage: 9.5+ MB\n"
     ]
    }
   ],
   "source": [
    "trans_df.info()"
   ]
  },
  {
   "cell_type": "markdown",
   "id": "5a15810d",
   "metadata": {},
   "source": [
    "## EDA"
   ]
  },
  {
   "cell_type": "code",
   "execution_count": 178,
   "id": "4e0733a0",
   "metadata": {},
   "outputs": [
    {
     "data": {
      "text/html": [
       "<div>\n",
       "<style scoped>\n",
       "    .dataframe tbody tr th:only-of-type {\n",
       "        vertical-align: middle;\n",
       "    }\n",
       "\n",
       "    .dataframe tbody tr th {\n",
       "        vertical-align: top;\n",
       "    }\n",
       "\n",
       "    .dataframe thead th {\n",
       "        text-align: right;\n",
       "    }\n",
       "</style>\n",
       "<table border=\"1\" class=\"dataframe\">\n",
       "  <thead>\n",
       "    <tr style=\"text-align: right;\">\n",
       "      <th></th>\n",
       "      <th>time</th>\n",
       "      <th>amount</th>\n",
       "      <th>age</th>\n",
       "      <th>income</th>\n",
       "    </tr>\n",
       "  </thead>\n",
       "  <tbody>\n",
       "    <tr>\n",
       "      <th>time</th>\n",
       "      <td>1.000000</td>\n",
       "      <td>0.004678</td>\n",
       "      <td>0.006908</td>\n",
       "      <td>0.002842</td>\n",
       "    </tr>\n",
       "    <tr>\n",
       "      <th>amount</th>\n",
       "      <td>0.004678</td>\n",
       "      <td>1.000000</td>\n",
       "      <td>-0.030722</td>\n",
       "      <td>0.231026</td>\n",
       "    </tr>\n",
       "    <tr>\n",
       "      <th>age</th>\n",
       "      <td>0.006908</td>\n",
       "      <td>-0.030722</td>\n",
       "      <td>1.000000</td>\n",
       "      <td>0.207365</td>\n",
       "    </tr>\n",
       "    <tr>\n",
       "      <th>income</th>\n",
       "      <td>0.002842</td>\n",
       "      <td>0.231026</td>\n",
       "      <td>0.207365</td>\n",
       "      <td>1.000000</td>\n",
       "    </tr>\n",
       "  </tbody>\n",
       "</table>\n",
       "</div>"
      ],
      "text/plain": [
       "            time    amount       age    income\n",
       "time    1.000000  0.004678  0.006908  0.002842\n",
       "amount  0.004678  1.000000 -0.030722  0.231026\n",
       "age     0.006908 -0.030722  1.000000  0.207365\n",
       "income  0.002842  0.231026  0.207365  1.000000"
      ]
     },
     "execution_count": 178,
     "metadata": {},
     "output_type": "execute_result"
    }
   ],
   "source": [
    "num_cols_tx = trans_df.select_dtypes(include='number').columns\n",
    "corr_tx = trans_df[num_cols_tx].corr()\n",
    "corr_tx"
   ]
  },
  {
   "cell_type": "code",
   "execution_count": 183,
   "id": "07c66b6c",
   "metadata": {},
   "outputs": [
    {
     "data": {
      "image/png": "[encoded data removed]",
      "text/plain": [
       "<Figure size 640x480 with 1 Axes>"
      ]
     },
     "metadata": {},
     "output_type": "display_data"
    }
   ],
   "source": [
    "trans_df['time_group'] = trans_df['time'] // 24  \n",
    "time_group_counts = trans_df['time_group'].value_counts().sort_index()\n",
    "\n",
    "plt.bar(time_group_counts.index, time_group_counts.values)\n",
    "plt.title('시간 분포')\n",
    "plt.xlabel('hour?day?')\n",
    "plt.ylabel('count')\n",
    "plt.xticks() \n",
    "plt.show()"
   ]
  },
  {
   "cell_type": "code",
   "execution_count": 184,
   "id": "f49212cb",
   "metadata": {},
   "outputs": [
    {
     "data": {
      "text/plain": [
       "time_group\n",
       "0     3159\n",
       "1     4006\n",
       "2     4190\n",
       "3     4035\n",
       "4     3814\n",
       "5     3484\n",
       "6     3235\n",
       "7     4211\n",
       "8     4671\n",
       "9     4928\n",
       "10    4367\n",
       "11    4059\n",
       "12    3703\n",
       "13    3433\n",
       "14    4484\n",
       "15    4943\n",
       "16    5054\n",
       "17    5634\n",
       "18    5887\n",
       "19    5506\n",
       "20    5030\n",
       "21    5525\n",
       "22    5656\n",
       "23    5407\n",
       "24    5655\n",
       "25    5866\n",
       "26    5510\n",
       "27    5044\n",
       "28    4529\n",
       "29    3928\n",
       "Name: count, dtype: int64"
      ]
     },
     "execution_count": 184,
     "metadata": {},
     "output_type": "execute_result"
    }
   ],
   "source": [
    "trans_df['time_group'].value_counts().sort_index()"
   ]
  },
  {
   "cell_type": "code",
   "execution_count": 186,
   "id": "d20773de",
   "metadata": {},
   "outputs": [
    {
     "data": {
      "text/plain": [
       "array(['F', 'M', nan, 'O'], dtype=object)"
      ]
     },
     "execution_count": 186,
     "metadata": {},
     "output_type": "execute_result"
    }
   ],
   "source": [
    "trans_df['gender'].unique()"
   ]
  },
  {
   "cell_type": "markdown",
   "id": "534e4145",
   "metadata": {},
   "source": [
    "### 성별이 null인 데이터 제거한 데이터프레임"
   ]
  },
  {
   "cell_type": "code",
   "execution_count": 187,
   "id": "81f19fab",
   "metadata": {},
   "outputs": [],
   "source": [
    "# 성별이 null인 데이터 제거한 데이터프레임\n",
    "gender_df = trans_df.dropna(subset=['gender'])\n",
    "gender_df = gender_df[(gender_df['gender'] == 'M') | (gender_df['gender'] == 'F')]\n",
    "#gender_df['gender'] = gender_df['gender'].apply(lambda x : 1 if x == 'F' else 0)"
   ]
  },
  {
   "cell_type": "code",
   "execution_count": 188,
   "id": "83c75e94",
   "metadata": {},
   "outputs": [
    {
     "data": {
      "image/png": "[encoded data removed]",
      "text/plain": [
       "<Figure size 640x480 with 1 Axes>"
      ]
     },
     "metadata": {},
     "output_type": "display_data"
    }
   ],
   "source": [
    "sns.countplot(x = 'gender', data = gender_df)\n",
    "plt.title('성별 분포')\n",
    "plt.xlabel('성별')\n",
    "plt.ylabel('고객 수')\n",
    "plt.show()"
   ]
  },
  {
   "cell_type": "code",
   "execution_count": 189,
   "id": "1986c816",
   "metadata": {},
   "outputs": [
    {
     "data": {
      "text/html": [
       "<div>\n",
       "<style scoped>\n",
       "    .dataframe tbody tr th:only-of-type {\n",
       "        vertical-align: middle;\n",
       "    }\n",
       "\n",
       "    .dataframe tbody tr th {\n",
       "        vertical-align: top;\n",
       "    }\n",
       "\n",
       "    .dataframe thead th {\n",
       "        text-align: right;\n",
       "    }\n",
       "</style>\n",
       "<table border=\"1\" class=\"dataframe\">\n",
       "  <thead>\n",
       "    <tr style=\"text-align: right;\">\n",
       "      <th></th>\n",
       "      <th>count</th>\n",
       "    </tr>\n",
       "    <tr>\n",
       "      <th>gender</th>\n",
       "      <th></th>\n",
       "    </tr>\n",
       "  </thead>\n",
       "  <tbody>\n",
       "    <tr>\n",
       "      <th>M</th>\n",
       "      <td>0.595813</td>\n",
       "    </tr>\n",
       "    <tr>\n",
       "      <th>F</th>\n",
       "      <td>0.404187</td>\n",
       "    </tr>\n",
       "  </tbody>\n",
       "</table>\n",
       "</div>"
      ],
      "text/plain": [
       "           count\n",
       "gender          \n",
       "M       0.595813\n",
       "F       0.404187"
      ]
     },
     "execution_count": 189,
     "metadata": {},
     "output_type": "execute_result"
    }
   ],
   "source": [
    "# null값 제외한 성별 비율\n",
    "pd.DataFrame(gender_df['gender'].value_counts()/gender_df['gender'].count())"
   ]
  },
  {
   "cell_type": "markdown",
   "id": "a36ad718",
   "metadata": {},
   "source": [
    "### 중복없는 고객 데이터 확인"
   ]
  },
  {
   "cell_type": "code",
   "execution_count": 191,
   "id": "4d138927",
   "metadata": {},
   "outputs": [
    {
     "name": "stdout",
     "output_type": "stream",
     "text": [
      "고객 수(중복x) :  16578\n"
     ]
    }
   ],
   "source": [
    "print(\"고객 수(중복x) : \",trans_df['person'].nunique())"
   ]
  },
  {
   "cell_type": "code",
   "execution_count": 192,
   "id": "0bd6b9c9",
   "metadata": {},
   "outputs": [
    {
     "data": {
      "text/html": [
       "<div>\n",
       "<style scoped>\n",
       "    .dataframe tbody tr th:only-of-type {\n",
       "        vertical-align: middle;\n",
       "    }\n",
       "\n",
       "    .dataframe tbody tr th {\n",
       "        vertical-align: top;\n",
       "    }\n",
       "\n",
       "    .dataframe thead th {\n",
       "        text-align: right;\n",
       "    }\n",
       "</style>\n",
       "<table border=\"1\" class=\"dataframe\">\n",
       "  <thead>\n",
       "    <tr style=\"text-align: right;\">\n",
       "      <th></th>\n",
       "      <th>person</th>\n",
       "      <th>event</th>\n",
       "      <th>time</th>\n",
       "      <th>amount</th>\n",
       "      <th>gender</th>\n",
       "      <th>age</th>\n",
       "      <th>id</th>\n",
       "      <th>became_member_on</th>\n",
       "      <th>income</th>\n",
       "      <th>time_group</th>\n",
       "    </tr>\n",
       "  </thead>\n",
       "  <tbody>\n",
       "    <tr>\n",
       "      <th>0</th>\n",
       "      <td>02c083884c7d45b39cc68e1314fec56c</td>\n",
       "      <td>transaction</td>\n",
       "      <td>0</td>\n",
       "      <td>0.83</td>\n",
       "      <td>F</td>\n",
       "      <td>20</td>\n",
       "      <td>02c083884c7d45b39cc68e1314fec56c</td>\n",
       "      <td>2016-07-11</td>\n",
       "      <td>30000.0</td>\n",
       "      <td>0</td>\n",
       "    </tr>\n",
       "    <tr>\n",
       "      <th>1</th>\n",
       "      <td>9fa9ae8f57894cc9a3b8a9bbe0fc1b2f</td>\n",
       "      <td>transaction</td>\n",
       "      <td>0</td>\n",
       "      <td>34.56</td>\n",
       "      <td>M</td>\n",
       "      <td>42</td>\n",
       "      <td>9fa9ae8f57894cc9a3b8a9bbe0fc1b2f</td>\n",
       "      <td>2016-01-17</td>\n",
       "      <td>96000.0</td>\n",
       "      <td>0</td>\n",
       "    </tr>\n",
       "    <tr>\n",
       "      <th>2</th>\n",
       "      <td>54890f68699049c2a04d415abc25e717</td>\n",
       "      <td>transaction</td>\n",
       "      <td>0</td>\n",
       "      <td>13.23</td>\n",
       "      <td>M</td>\n",
       "      <td>36</td>\n",
       "      <td>54890f68699049c2a04d415abc25e717</td>\n",
       "      <td>2017-12-28</td>\n",
       "      <td>56000.0</td>\n",
       "      <td>0</td>\n",
       "    </tr>\n",
       "    <tr>\n",
       "      <th>3</th>\n",
       "      <td>b2f1cd155b864803ad8334cdf13c4bd2</td>\n",
       "      <td>transaction</td>\n",
       "      <td>0</td>\n",
       "      <td>19.51</td>\n",
       "      <td>F</td>\n",
       "      <td>55</td>\n",
       "      <td>b2f1cd155b864803ad8334cdf13c4bd2</td>\n",
       "      <td>2017-10-16</td>\n",
       "      <td>94000.0</td>\n",
       "      <td>0</td>\n",
       "    </tr>\n",
       "    <tr>\n",
       "      <th>4</th>\n",
       "      <td>fe97aa22dd3e48c8b143116a8403dd52</td>\n",
       "      <td>transaction</td>\n",
       "      <td>0</td>\n",
       "      <td>18.97</td>\n",
       "      <td>F</td>\n",
       "      <td>39</td>\n",
       "      <td>fe97aa22dd3e48c8b143116a8403dd52</td>\n",
       "      <td>2017-12-17</td>\n",
       "      <td>67000.0</td>\n",
       "      <td>0</td>\n",
       "    </tr>\n",
       "    <tr>\n",
       "      <th>...</th>\n",
       "      <td>...</td>\n",
       "      <td>...</td>\n",
       "      <td>...</td>\n",
       "      <td>...</td>\n",
       "      <td>...</td>\n",
       "      <td>...</td>\n",
       "      <td>...</td>\n",
       "      <td>...</td>\n",
       "      <td>...</td>\n",
       "      <td>...</td>\n",
       "    </tr>\n",
       "    <tr>\n",
       "      <th>138598</th>\n",
       "      <td>542c41f5afc049e7ae7d4721ace9d286</td>\n",
       "      <td>transaction</td>\n",
       "      <td>714</td>\n",
       "      <td>1.63</td>\n",
       "      <td>NaN</td>\n",
       "      <td>118</td>\n",
       "      <td>542c41f5afc049e7ae7d4721ace9d286</td>\n",
       "      <td>2018-04-06</td>\n",
       "      <td>64000.0</td>\n",
       "      <td>29</td>\n",
       "    </tr>\n",
       "    <tr>\n",
       "      <th>138676</th>\n",
       "      <td>448dabde725040978b8a247a20bac126</td>\n",
       "      <td>transaction</td>\n",
       "      <td>714</td>\n",
       "      <td>3.19</td>\n",
       "      <td>M</td>\n",
       "      <td>50</td>\n",
       "      <td>448dabde725040978b8a247a20bac126</td>\n",
       "      <td>2018-01-07</td>\n",
       "      <td>60000.0</td>\n",
       "      <td>29</td>\n",
       "    </tr>\n",
       "    <tr>\n",
       "      <th>138719</th>\n",
       "      <td>7718656997f3453db0f5aeca9cd35240</td>\n",
       "      <td>transaction</td>\n",
       "      <td>714</td>\n",
       "      <td>15.35</td>\n",
       "      <td>F</td>\n",
       "      <td>73</td>\n",
       "      <td>7718656997f3453db0f5aeca9cd35240</td>\n",
       "      <td>2018-05-01</td>\n",
       "      <td>65000.0</td>\n",
       "      <td>29</td>\n",
       "    </tr>\n",
       "    <tr>\n",
       "      <th>138736</th>\n",
       "      <td>54463e5d95124b7fb3133fc1eae71952</td>\n",
       "      <td>transaction</td>\n",
       "      <td>714</td>\n",
       "      <td>0.76</td>\n",
       "      <td>M</td>\n",
       "      <td>42</td>\n",
       "      <td>54463e5d95124b7fb3133fc1eae71952</td>\n",
       "      <td>2017-11-04</td>\n",
       "      <td>69000.0</td>\n",
       "      <td>29</td>\n",
       "    </tr>\n",
       "    <tr>\n",
       "      <th>138901</th>\n",
       "      <td>0c027f5f34dd4b9eba0a25785c611273</td>\n",
       "      <td>transaction</td>\n",
       "      <td>714</td>\n",
       "      <td>11.44</td>\n",
       "      <td>M</td>\n",
       "      <td>56</td>\n",
       "      <td>0c027f5f34dd4b9eba0a25785c611273</td>\n",
       "      <td>2017-10-24</td>\n",
       "      <td>61000.0</td>\n",
       "      <td>29</td>\n",
       "    </tr>\n",
       "  </tbody>\n",
       "</table>\n",
       "<p>16578 rows × 10 columns</p>\n",
       "</div>"
      ],
      "text/plain": [
       "                                  person        event  time  amount gender  \\\n",
       "0       02c083884c7d45b39cc68e1314fec56c  transaction     0    0.83      F   \n",
       "1       9fa9ae8f57894cc9a3b8a9bbe0fc1b2f  transaction     0   34.56      M   \n",
       "2       54890f68699049c2a04d415abc25e717  transaction     0   13.23      M   \n",
       "3       b2f1cd155b864803ad8334cdf13c4bd2  transaction     0   19.51      F   \n",
       "4       fe97aa22dd3e48c8b143116a8403dd52  transaction     0   18.97      F   \n",
       "...                                  ...          ...   ...     ...    ...   \n",
       "138598  542c41f5afc049e7ae7d4721ace9d286  transaction   714    1.63    NaN   \n",
       "138676  448dabde725040978b8a247a20bac126  transaction   714    3.19      M   \n",
       "138719  7718656997f3453db0f5aeca9cd35240  transaction   714   15.35      F   \n",
       "138736  54463e5d95124b7fb3133fc1eae71952  transaction   714    0.76      M   \n",
       "138901  0c027f5f34dd4b9eba0a25785c611273  transaction   714   11.44      M   \n",
       "\n",
       "        age                                id became_member_on   income  \\\n",
       "0        20  02c083884c7d45b39cc68e1314fec56c       2016-07-11  30000.0   \n",
       "1        42  9fa9ae8f57894cc9a3b8a9bbe0fc1b2f       2016-01-17  96000.0   \n",
       "2        36  54890f68699049c2a04d415abc25e717       2017-12-28  56000.0   \n",
       "3        55  b2f1cd155b864803ad8334cdf13c4bd2       2017-10-16  94000.0   \n",
       "4        39  fe97aa22dd3e48c8b143116a8403dd52       2017-12-17  67000.0   \n",
       "...     ...                               ...              ...      ...   \n",
       "138598  118  542c41f5afc049e7ae7d4721ace9d286       2018-04-06  64000.0   \n",
       "138676   50  448dabde725040978b8a247a20bac126       2018-01-07  60000.0   \n",
       "138719   73  7718656997f3453db0f5aeca9cd35240       2018-05-01  65000.0   \n",
       "138736   42  54463e5d95124b7fb3133fc1eae71952       2017-11-04  69000.0   \n",
       "138901   56  0c027f5f34dd4b9eba0a25785c611273       2017-10-24  61000.0   \n",
       "\n",
       "        time_group  \n",
       "0                0  \n",
       "1                0  \n",
       "2                0  \n",
       "3                0  \n",
       "4                0  \n",
       "...            ...  \n",
       "138598          29  \n",
       "138676          29  \n",
       "138719          29  \n",
       "138736          29  \n",
       "138901          29  \n",
       "\n",
       "[16578 rows x 10 columns]"
      ]
     },
     "execution_count": 192,
     "metadata": {},
     "output_type": "execute_result"
    }
   ],
   "source": [
    "person_df = trans_df.drop_duplicates(subset='person', keep='first')\n",
    "person_df"
   ]
  },
  {
   "cell_type": "code",
   "execution_count": 193,
   "id": "84ec5bc8",
   "metadata": {},
   "outputs": [
    {
     "name": "stdout",
     "output_type": "stream",
     "text": [
      "최소 나이:  18\n",
      "최소 나이:  118\n"
     ]
    }
   ],
   "source": [
    "print(\"최소 나이: \", person_df['age'].min())\n",
    "print(\"최소 나이: \", person_df['age'].max())"
   ]
  },
  {
   "cell_type": "code",
   "execution_count": 194,
   "id": "121baa77",
   "metadata": {},
   "outputs": [
    {
     "name": "stderr",
     "output_type": "stream",
     "text": [
      "c:\\ProgramData\\anaconda3\\Lib\\site-packages\\seaborn\\_oldcore.py:1119: FutureWarning: use_inf_as_na option is deprecated and will be removed in a future version. Convert inf values to NaN before operating instead.\n",
      "  with pd.option_context('mode.use_inf_as_na', True):\n"
     ]
    },
    {
     "data": {
      "image/png": "[encoded data removed]",
      "text/plain": [
       "<Figure size 800x500 with 1 Axes>"
      ]
     },
     "metadata": {},
     "output_type": "display_data"
    }
   ],
   "source": [
    "# sns.histplot(data = person_df, x = 'age')\n",
    "plt.figure(figsize=(8, 5))\n",
    "sns.histplot(person_df['age'], bins=10, kde=True, color='steelblue')\n",
    "plt.title(\"나이 분포\")\n",
    "plt.xlabel(\"나이\")\n",
    "plt.ylabel(\"빈도\")\n",
    "plt.grid(True)\n",
    "plt.tight_layout()\n",
    "plt.show()"
   ]
  },
  {
   "cell_type": "code",
   "execution_count": null,
   "id": "f932d5a9",
   "metadata": {},
   "outputs": [
    {
     "name": "stderr",
     "output_type": "stream",
     "text": [
      "C:\\Users\\Public\\Documents\\ESTsoft\\CreatorTemp\\ipykernel_8660\\2773226752.py:24: SettingWithCopyWarning: \n",
      "A value is trying to be set on a copy of a slice from a DataFrame.\n",
      "Try using .loc[row_indexer,col_indexer] = value instead\n",
      "\n",
      "See the caveats in the documentation: https://pandas.pydata.org/pandas-docs/stable/user_guide/indexing.html#returning-a-view-versus-a-copy\n",
      "  person_df['age_group'] = person_df['age'].apply(group_age)\n"
     ]
    }
   ],
   "source": [
    "def group_age(age):\n",
    "  if 10 <= age < 20:\n",
    "    return '10대'\n",
    "  elif 20 <= age < 30:\n",
    "    return '20대'\n",
    "  elif 30 <= age < 40:\n",
    "    return '30대'\n",
    "  elif 40 <= age < 50:\n",
    "    return '40대'\n",
    "  elif 50 <= age < 60:\n",
    "    return '50대'\n",
    "  elif 60 <= age < 70:\n",
    "    return '60대'\n",
    "  elif 70 <= age < 80:\n",
    "    return '70대'\n",
    "  elif 80 <= age < 90:\n",
    "    return '80대'\n",
    "  elif 90 <= age < 100:\n",
    "    return '90대'\n",
    "  elif 100 <= age < 110:\n",
    "    return '100대'\n",
    "  else:\n",
    "    return '110대'\n",
    "person_df['age_group'] = person_df['age'].apply(group_age)"
   ]
  },
  {
   "cell_type": "code",
   "execution_count": 196,
   "id": "e5a2f72d",
   "metadata": {},
   "outputs": [
    {
     "data": {
      "text/plain": [
       "age_group\n",
       "50대     3440\n",
       "60대     2921\n",
       "40대     2247\n",
       "110대    2086\n",
       "70대     1737\n",
       "30대     1507\n",
       "20대     1362\n",
       "80대      809\n",
       "90대      248\n",
       "10대      204\n",
       "100대      17\n",
       "Name: count, dtype: int64"
      ]
     },
     "execution_count": 196,
     "metadata": {},
     "output_type": "execute_result"
    }
   ],
   "source": [
    "person_df['age_group'].value_counts()"
   ]
  },
  {
   "cell_type": "markdown",
   "id": "a00c3e6c",
   "metadata": {},
   "source": [
    "## trans_df"
   ]
  },
  {
   "cell_type": "code",
   "execution_count": 197,
   "id": "5e0968d5",
   "metadata": {},
   "outputs": [],
   "source": [
    "trans_df['age_group'] = trans_df['age'].apply(group_age)\n",
    "trans_df = trans_df[trans_df['age_group'] != '110대']"
   ]
  },
  {
   "cell_type": "code",
   "execution_count": 199,
   "id": "3bff078d",
   "metadata": {},
   "outputs": [
    {
     "data": {
      "text/plain": [
       "became_member_on\n",
       "2017-12-12    301\n",
       "2017-12-07    294\n",
       "2018-01-25    264\n",
       "2017-10-07    253\n",
       "2017-08-15    247\n",
       "             ... \n",
       "2014-10-15      3\n",
       "2015-07-24      3\n",
       "2015-04-07      3\n",
       "2014-03-13      3\n",
       "2014-10-05      2\n",
       "Name: count, Length: 1706, dtype: int64"
      ]
     },
     "execution_count": 199,
     "metadata": {},
     "output_type": "execute_result"
    }
   ],
   "source": [
    "trans_df['became_member_on'].value_counts()"
   ]
  },
  {
   "cell_type": "code",
   "execution_count": 200,
   "id": "faa19f81",
   "metadata": {},
   "outputs": [
    {
     "name": "stdout",
     "output_type": "stream",
     "text": [
      "2013-07-29 00:00:00\n",
      "2018-07-26 00:00:00\n"
     ]
    }
   ],
   "source": [
    "print(trans_df['became_member_on'].min())\n",
    "print(trans_df['became_member_on'].max())"
   ]
  },
  {
   "cell_type": "code",
   "execution_count": 201,
   "id": "3e1d1bb6",
   "metadata": {},
   "outputs": [
    {
     "data": {
      "image/png": "[encoded data removed]",
      "text/plain": [
       "<Figure size 800x500 with 1 Axes>"
      ]
     },
     "metadata": {},
     "output_type": "display_data"
    }
   ],
   "source": [
    "member_by_year = trans_df['became_member_on'].dt.year.value_counts().sort_index()\n",
    "\n",
    "plt.figure(figsize=(8, 5))\n",
    "plt.bar(member_by_year.index, member_by_year.values, alpha=0.5, color='skyblue')\n",
    "plt.xlabel('가입 연도')\n",
    "plt.ylabel('가입자 수')\n",
    "plt.title('연도별 가입자 수')\n",
    "plt.show()"
   ]
  },
  {
   "cell_type": "code",
   "execution_count": null,
   "id": "4eb7ce3b",
   "metadata": {},
   "outputs": [
    {
     "data": {
      "image/png": "[encoded data removed]",
      "text/plain": [
       "<Figure size 1200x500 with 1 Axes>"
      ]
     },
     "metadata": {},
     "output_type": "display_data"
    }
   ],
   "source": [
    "# Period 기준 그룹화(chat gpt 코드)\n",
    "join_counts = trans_df['became_member_on'].dt.to_period('M').value_counts().sort_index()\n",
    "\n",
    "# 시각화\n",
    "plt.figure(figsize=(12, 5))\n",
    "join_counts.plot(kind='bar', color='orange', alpha=0.7)\n",
    "plt.title('연-월별 가입자 수')\n",
    "plt.xlabel('가입 년-월')\n",
    "plt.ylabel('가입자 수')\n",
    "plt.xticks(rotation=45)\n",
    "plt.tight_layout()\n",
    "plt.show()\n"
   ]
  },
  {
   "cell_type": "code",
   "execution_count": 211,
   "id": "0d7e787f",
   "metadata": {},
   "outputs": [
    {
     "name": "stderr",
     "output_type": "stream",
     "text": [
      "C:\\Users\\Public\\Documents\\ESTsoft\\CreatorTemp\\ipykernel_8660\\1142727769.py:1: SettingWithCopyWarning: \n",
      "A value is trying to be set on a copy of a slice from a DataFrame.\n",
      "Try using .loc[row_indexer,col_indexer] = value instead\n",
      "\n",
      "See the caveats in the documentation: https://pandas.pydata.org/pandas-docs/stable/user_guide/indexing.html#returning-a-view-versus-a-copy\n",
      "  trans_df['year'] = trans_df['became_member_on'].dt.year\n"
     ]
    },
    {
     "data": {
      "text/html": [
       "<div>\n",
       "<style scoped>\n",
       "    .dataframe tbody tr th:only-of-type {\n",
       "        vertical-align: middle;\n",
       "    }\n",
       "\n",
       "    .dataframe tbody tr th {\n",
       "        vertical-align: top;\n",
       "    }\n",
       "\n",
       "    .dataframe thead th {\n",
       "        text-align: right;\n",
       "    }\n",
       "</style>\n",
       "<table border=\"1\" class=\"dataframe\">\n",
       "  <thead>\n",
       "    <tr style=\"text-align: right;\">\n",
       "      <th></th>\n",
       "      <th></th>\n",
       "      <th>person</th>\n",
       "      <th>amount</th>\n",
       "    </tr>\n",
       "    <tr>\n",
       "      <th>person</th>\n",
       "      <th>year</th>\n",
       "      <th></th>\n",
       "      <th></th>\n",
       "    </tr>\n",
       "  </thead>\n",
       "  <tbody>\n",
       "    <tr>\n",
       "      <th>0009655768c64bdeb2e877511632db8f</th>\n",
       "      <th>2017</th>\n",
       "      <td>8</td>\n",
       "      <td>127.60</td>\n",
       "    </tr>\n",
       "    <tr>\n",
       "      <th>0011e0d4e6b944f998e987f904e8c1e5</th>\n",
       "      <th>2018</th>\n",
       "      <td>5</td>\n",
       "      <td>79.46</td>\n",
       "    </tr>\n",
       "    <tr>\n",
       "      <th>0020c2b971eb4e9188eac86d93036a77</th>\n",
       "      <th>2016</th>\n",
       "      <td>8</td>\n",
       "      <td>196.86</td>\n",
       "    </tr>\n",
       "    <tr>\n",
       "      <th>0020ccbbb6d84e358d3414a3ff76cffd</th>\n",
       "      <th>2016</th>\n",
       "      <td>12</td>\n",
       "      <td>154.05</td>\n",
       "    </tr>\n",
       "    <tr>\n",
       "      <th>003d66b6608740288d6cc97a6903f4f0</th>\n",
       "      <th>2017</th>\n",
       "      <td>18</td>\n",
       "      <td>48.34</td>\n",
       "    </tr>\n",
       "    <tr>\n",
       "      <th>...</th>\n",
       "      <th>...</th>\n",
       "      <td>...</td>\n",
       "      <td>...</td>\n",
       "    </tr>\n",
       "    <tr>\n",
       "      <th>fff3ba4757bd42088c044ca26d73817a</th>\n",
       "      <th>2015</th>\n",
       "      <td>11</td>\n",
       "      <td>580.98</td>\n",
       "    </tr>\n",
       "    <tr>\n",
       "      <th>fff7576017104bcc8677a8d63322b5e1</th>\n",
       "      <th>2017</th>\n",
       "      <td>6</td>\n",
       "      <td>29.94</td>\n",
       "    </tr>\n",
       "    <tr>\n",
       "      <th>fff8957ea8b240a6b5e634b6ee8eafcf</th>\n",
       "      <th>2018</th>\n",
       "      <td>5</td>\n",
       "      <td>12.15</td>\n",
       "    </tr>\n",
       "    <tr>\n",
       "      <th>fffad4f4828548d1b5583907f2e9906b</th>\n",
       "      <th>2017</th>\n",
       "      <td>12</td>\n",
       "      <td>88.83</td>\n",
       "    </tr>\n",
       "    <tr>\n",
       "      <th>ffff82501cea40309d5fdd7edcca4a07</th>\n",
       "      <th>2016</th>\n",
       "      <td>15</td>\n",
       "      <td>226.07</td>\n",
       "    </tr>\n",
       "  </tbody>\n",
       "</table>\n",
       "<p>14492 rows × 2 columns</p>\n",
       "</div>"
      ],
      "text/plain": [
       "                                       person  amount\n",
       "person                           year                \n",
       "0009655768c64bdeb2e877511632db8f 2017       8  127.60\n",
       "0011e0d4e6b944f998e987f904e8c1e5 2018       5   79.46\n",
       "0020c2b971eb4e9188eac86d93036a77 2016       8  196.86\n",
       "0020ccbbb6d84e358d3414a3ff76cffd 2016      12  154.05\n",
       "003d66b6608740288d6cc97a6903f4f0 2017      18   48.34\n",
       "...                                       ...     ...\n",
       "fff3ba4757bd42088c044ca26d73817a 2015      11  580.98\n",
       "fff7576017104bcc8677a8d63322b5e1 2017       6   29.94\n",
       "fff8957ea8b240a6b5e634b6ee8eafcf 2018       5   12.15\n",
       "fffad4f4828548d1b5583907f2e9906b 2017      12   88.83\n",
       "ffff82501cea40309d5fdd7edcca4a07 2016      15  226.07\n",
       "\n",
       "[14492 rows x 2 columns]"
      ]
     },
     "execution_count": 211,
     "metadata": {},
     "output_type": "execute_result"
    }
   ],
   "source": [
    "trans_df['year'] = trans_df['became_member_on'].dt.year\n",
    "trans_df.groupby(['person', 'year']).agg({'person':'count', 'amount':'sum'})"
   ]
  },
  {
   "cell_type": "code",
   "execution_count": null,
   "id": "77ff194f",
   "metadata": {},
   "outputs": [],
   "source": []
  }
 ],
 "metadata": {
  "kernelspec": {
   "display_name": "base",
   "language": "python",
   "name": "python3"
  },
  "language_info": {
   "codemirror_mode": {
    "name": "ipython",
    "version": 3
   },
   "file_extension": ".py",
   "mimetype": "text/x-python",
   "name": "python",
   "nbconvert_exporter": "python",
   "pygments_lexer": "ipython3",
   "version": "3.11.7"
  }
 },
 "nbformat": 4,
 "nbformat_minor": 5
}
