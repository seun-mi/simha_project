{
 "cells": [
  {
   "cell_type": "code",
   "execution_count": 1,
   "id": "73c3d517",
   "metadata": {},
   "outputs": [
    {
     "ename": "NameError",
     "evalue": "name 'portfolio' is not defined",
     "output_type": "error",
     "traceback": [
      "\u001b[31m---------------------------------------------------------------------------\u001b[39m",
      "\u001b[31mNameError\u001b[39m                                 Traceback (most recent call last)",
      "\u001b[36mCell\u001b[39m\u001b[36m \u001b[39m\u001b[32mIn[1]\u001b[39m\u001b[32m, line 8\u001b[39m\n\u001b[32m      5\u001b[39m         \u001b[38;5;28;01mreturn\u001b[39;00m ast.literal_eval(x)\n\u001b[32m      6\u001b[39m     \u001b[38;5;28;01mreturn\u001b[39;00m x  \u001b[38;5;66;03m# 이미 리스트면 그대로 반환\u001b[39;00m\n\u001b[32m----> \u001b[39m\u001b[32m8\u001b[39m portfolio[\u001b[33m'\u001b[39m\u001b[33mchannels\u001b[39m\u001b[33m'\u001b[39m] = \u001b[43mportfolio\u001b[49m[\u001b[33m'\u001b[39m\u001b[33mchannels\u001b[39m\u001b[33m'\u001b[39m].apply(safe_eval)\n\u001b[32m     11\u001b[39m \u001b[38;5;28;01mdef\u001b[39;00m\u001b[38;5;250m \u001b[39m\u001b[34mmake_offer_code\u001b[39m(row):\n\u001b[32m     12\u001b[39m     \u001b[38;5;66;03m# offer_type 줄임말\u001b[39;00m\n\u001b[32m     13\u001b[39m     type_map = {\n\u001b[32m     14\u001b[39m         \u001b[33m'\u001b[39m\u001b[33mbogo\u001b[39m\u001b[33m'\u001b[39m: \u001b[33m'\u001b[39m\u001b[33mBOGO\u001b[39m\u001b[33m'\u001b[39m,\n\u001b[32m     15\u001b[39m         \u001b[33m'\u001b[39m\u001b[33mdiscount\u001b[39m\u001b[33m'\u001b[39m: \u001b[33m'\u001b[39m\u001b[33mDISC\u001b[39m\u001b[33m'\u001b[39m,\n\u001b[32m     16\u001b[39m         \u001b[33m'\u001b[39m\u001b[33minformational\u001b[39m\u001b[33m'\u001b[39m: \u001b[33m'\u001b[39m\u001b[33mINFO\u001b[39m\u001b[33m'\u001b[39m\n\u001b[32m     17\u001b[39m     }\n",
      "\u001b[31mNameError\u001b[39m: name 'portfolio' is not defined"
     ]
    }
   ],
   "source": [
    "import ast\n",
    "\n",
    "def safe_eval(x):\n",
    "    if isinstance(x, str):  # 문자열이면 변환\n",
    "        return ast.literal_eval(x)\n",
    "    return x  # 이미 리스트면 그대로 반환\n",
    "\n",
    "portfolio['channels'] = portfolio['channels'].apply(safe_eval)\n",
    "\n",
    "\n",
    "def make_offer_code(row):\n",
    "    # offer_type 줄임말\n",
    "    type_map = {\n",
    "        'bogo': 'BOGO',\n",
    "        'discount': 'DISC',\n",
    "        'informational': 'INFO'\n",
    "    }\n",
    "    offer_type_short = type_map.get(row['offer_type'], row['offer_type'].upper())\n",
    "    \n",
    "    # 채널 약어 변환\n",
    "    channel_map = {\n",
    "        'email': 'E',\n",
    "        'mobile': 'M',\n",
    "        'social': 'S',\n",
    "        'web': 'W'\n",
    "    }\n",
    "    channel_short = \"\".join([channel_map.get(ch, ch[0].upper()) for ch in row['channels']])\n",
    "    \n",
    "    # 최종 코드\n",
    "    #return f\"{offer_type_short}_R{row['reward']}_{row['duration']}D_Lv{row['difficulty']}\"\n",
    "    return f\"{offer_type_short}_R{row['reward']}_{channel_short}_{row['duration']}D_Lv{row['difficulty']}\"\n",
    "\n",
    "# 새 컬럼 생성\n",
    "portfolio['offer_code'] = portfolio.apply(make_offer_code, axis=1)\n",
    "\n",
    "# 확인\n",
    "portfolio[['id', 'offer_code']].head(10)\n"
   ]
  }
 ],
 "metadata": {
  "kernelspec": {
   "display_name": "Python 3",
   "language": "python",
   "name": "python3"
  },
  "language_info": {
   "codemirror_mode": {
    "name": "ipython",
    "version": 3
   },
   "file_extension": ".py",
   "mimetype": "text/x-python",
   "name": "python",
   "nbconvert_exporter": "python",
   "pygments_lexer": "ipython3",
   "version": "3.13.3"
  }
 },
 "nbformat": 4,
 "nbformat_minor": 5
}
